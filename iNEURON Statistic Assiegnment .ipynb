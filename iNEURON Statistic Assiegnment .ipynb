{
 "cells": [
  {
   "cell_type": "markdown",
   "id": "e4b7e117",
   "metadata": {},
   "source": [
    "# Statistics"
   ]
  },
  {
   "cell_type": "markdown",
   "id": "8ea6c762",
   "metadata": {},
   "source": [
    "## Q-1. A university wants to understand the relationship between the SAT scores of its\n",
    "applicants and their college GPA. They collect data on 500 students, including their SAT\n",
    "scores (out of 1600) and their college GPA (on a 4.0 scale). They find that the correlation\n",
    "coefficient between SAT scores and college GPA is 0.7. What does this correlation\n",
    "coefficient indicate about the relationship between SAT scores and college GPA?"
   ]
  },
  {
   "cell_type": "markdown",
   "id": "a0c10203",
   "metadata": {},
   "source": [
    "Ans:- A correlation coefficient of 0.7 indicates a strong positive relationship between SAT scores and college GPA. The correlation coefficient ranges from -1 to 1, where 1 represents a perfect positive relationship, -1 represents a perfect negative relationship, and 0 indicates no linear relationship.\n",
    "\n",
    "In this case, a correlation coefficient of 0.7 suggests that as SAT scores increase, there is a strong tendency for college GPA to also increase. The positive sign indicates that higher SAT scores are generally associated with higher college GPAs.\n",
    "\n",
    "It's important to note that correlation does not imply causation. While there is a strong correlation between SAT scores and college GPA, it does not necessarily mean that higher SAT scores cause higher GPAs. Other factors, such as study habits, motivation, and personal qualities, could also influence college performance."
   ]
  },
  {
   "cell_type": "markdown",
   "id": "ae02795c",
   "metadata": {},
   "source": [
    "## Q-2. Consider a dataset containing the heights (in centimeters) of 1000 individuals. The\n",
    "mean height is 170 cm with a standard deviation of 10 cm. The dataset is approximately\n",
    "normally distributed, and its skewness is approximately zero. Based on this information,\n",
    "answer the following questions:\n",
    "a. What percentage of individuals in the dataset have heights between 160 cm\n",
    "and 180 cm?\n",
    "b. If we randomly select 100 individuals from the dataset, what is the probability\n",
    "that their average height is greater than 175 cm?\n",
    "c. Assuming the dataset follows a normal distribution, what is the z-score\n",
    "corresponding to a height of 185 cm?\n",
    "d. We know that 5% of the dataset has heights below a certain value. What is\n",
    "the approximate height corresponding to this threshold?\n",
    "e. Calculate the coefficient of variation (CV) for the dataset.\n",
    "f. Calculate the skewness of the dataset and interpret the result."
   ]
  },
  {
   "cell_type": "raw",
   "id": "0224f82d",
   "metadata": {},
   "source": [
    "Ans:-a. To determine the percentage of individuals with heights between 160 cm and 180 cm, we need to calculate the z-scores for these values and then find the area under the normal distribution curve between those z-scores. \n",
    "\n",
    "The z-score is calculated using the formula: z = (x - μ) / σ, where x is the individual value, μ is the mean, and σ is the standard deviation.\n",
    "\n",
    "For 160 cm: z = (160 - 170) / 10 = -1\n",
    "For 180 cm: z = (180 - 170) / 10 = 1\n",
    "\n",
    "Using a standard normal distribution table or a calculator, we can find the area under the curve between -1 and 1. This area represents the percentage of individuals with heights between 160 cm and 180 cm.\n",
    "\n",
    "b. To calculate the probability that the average height of a randomly selected group of 100 individuals is greater than 175 cm, we need to consider the sampling distribution of the mean. The mean of the sampling distribution will still be 170 cm, but the standard deviation will be the population standard deviation (10 cm) divided by the square root of the sample size (√100).\n",
    "\n",
    "The z-score for 175 cm can be calculated as: z = (175 - 170) / (10 / √100).\n",
    "\n",
    "Using a standard normal distribution table or a calculator, we can find the probability of obtaining a z-score greater than this value.\n",
    "\n",
    "c. To calculate the z-score corresponding to a height of 185 cm, we use the same formula as in part a: z = (x - μ) / σ. Plugging in the values, we have: z = (185 - 170) / 10.\n",
    "\n",
    "d. To find the height corresponding to the threshold of 5% of the dataset, we need to determine the z-score that corresponds to this percentile. We can then convert the z-score back to the original measurement using the formula: x = z * σ + μ.\n",
    "\n",
    "e. The coefficient of variation (CV) is a measure of relative variability and is calculated as the ratio of the standard deviation to the mean, expressed as a percentage. In this case, the CV can be calculated as (standard deviation / mean) * 100.\n",
    "\n",
    "f. Skewness measures the asymmetry of a distribution. A skewness value of zero indicates a symmetric distribution. Positive skewness indicates a longer tail on the right side of the distribution, while negative skewness indicates a longer tail on the left side.\n",
    "\n",
    "To calculate skewness, a formula can be used: skewness = (3 * (mean - median)) / standard deviation."
   ]
  },
  {
   "cell_type": "markdown",
   "id": "6d7a3780",
   "metadata": {},
   "source": [
    "## Q-4. A group of 20 friends decide to play a game in which they each write a number\n",
    "between 1 and 20 on a slip of paper and put it into a hat. They then draw one slip of paper\n",
    "at random. What is the probability that the number on the slip of paper is a perfect square\n",
    "(i.e., 1, 4, 9, or 16)?"
   ]
  },
  {
   "cell_type": "markdown",
   "id": "884155d0",
   "metadata": {},
   "source": [
    "Ans:-The total number of possible outcomes is 20, as there are 20 slips of paper in the hat, each with a distinct number from 1 to 20.\n",
    "\n",
    "Now, let's determine the number of favorable outcomes, which in this case are slips of paper with perfect square numbers (1, 4, 9, or 16). There are four perfect square numbers between 1 and 20.\n",
    "\n",
    "Therefore, the probability of drawing a slip of paper with a perfect square number is:\n",
    "\n",
    "Probability = Number of favorable outcomes / Total number of possible outcomes\n",
    "Probability = 4 / 20\n",
    "Probability = 0.2 or 20%\n",
    "\n",
    "So, the probability of drawing a slip of paper with a perfect square number is 20%."
   ]
  },
  {
   "cell_type": "markdown",
   "id": "84b6d704",
   "metadata": {},
   "source": [
    "## Q-5. A certain city has two taxi companies: Company A has 80% of the taxis and\n",
    "Company B has 20% of the taxis. Company A's taxis have a 95% success rate for picking\n",
    "up passengers on time, while Company B's taxis have a 90% success rate. If a randomly\n",
    "selected taxi is late, what is the probability that it belongs to Company A?"
   ]
  },
  {
   "cell_type": "markdown",
   "id": "9c16b700",
   "metadata": {},
   "source": [
    "Ans:-To solve this problem, we can use Bayes' theorem. Let's define the events:\n",
    "\n",
    "A: The selected taxi belongs to Company A.\n",
    "B: The selected taxi is late.\n",
    "\n",
    "We are interested in finding the probability that the selected taxi belongs to Company A given that it is late, P(A|B).\n",
    "\n",
    "According to Bayes' theorem:\n",
    "\n",
    "P(A|B) = (P(B|A) * P(A)) / P(B)\n",
    "\n",
    "P(B|A) is the probability that the taxi is late given that it belongs to Company A, which is 1 - 0.95 = 0.05 (since Company A has a 95% success rate, the probability of being late is 1 - 0.95 = 0.05).\n",
    "\n",
    "P(A) is the probability of selecting a taxi from Company A, which is 0.8.\n",
    "\n",
    "P(B) is the probability of a taxi being late, which is calculated as the weighted average of the probabilities of being late for Company A and Company B, based on their respective proportions:\n",
    "\n",
    "P(B) = P(B|A) * P(A) + P(B|B) * P(B)\n",
    "      = 0.05 * 0.8 + 0.1 * 0.2\n",
    "      = 0.04 + 0.02\n",
    "      = 0.06\n",
    "\n",
    "Now we can substitute these values into the equation to find P(A|B):\n",
    "\n",
    "P(A|B) = (0.05 * 0.8) / 0.06\n",
    "       = 0.04 / 0.06\n",
    "       = 4/6\n",
    "       = 2/3\n",
    "       ≈ 0.67\n",
    "\n",
    "Therefore, the probability that a randomly selected taxi, which is late, belongs to Company A is approximately 0.67 or 67%."
   ]
  },
  {
   "cell_type": "markdown",
   "id": "4a49045b",
   "metadata": {},
   "source": [
    "## Q-10. A factory produces light bulbs, and the probability of a bulb being defective is 0.05.\n",
    "The factory produces a large batch of 500 light bulbs.\n",
    "a. What is the probability that exactly 20 bulbs are defective?\n",
    "b. What is the probability that at least 10 bulbs are defective?\n",
    "c. What is the probability that at max 15 bulbs are defective?\n",
    "d. On average, how many defective bulbs would you expect in a batch of 500?"
   ]
  },
  {
   "cell_type": "markdown",
   "id": "f53dc6cc",
   "metadata": {},
   "source": [
    "Ans-a. To find the probability that exactly 20 bulbs are defective:\n",
    "P(X = 20) = C(500, 20) * 0.05^20 * (1 - 0.05)^(500 - 20)\n",
    "\n",
    "b. To find the probability that at least 10 bulbs are defective, we can find the probability of the complementary event (less than 10 bulbs defective) and subtract it from 1:\n",
    "P(X >= 10) = 1 - P(X < 10) = 1 - P(X = 0) - P(X = 1) - ... - P(X = 9)\n",
    "\n",
    "c. To find the probability that at most 15 bulbs are defective, we can sum the probabilities of having 0, 1, 2, ..., 15 defective bulbs:\n",
    "P(X <= 15) = P(X = 0) + P(X = 1) + P(X = 2) + ... + P(X = 15)\n",
    "\n",
    "d. The expected number of defective bulbs can be calculated using the formula:\n",
    "\n",
    "E(X) = n * p\n",
    "\n",
    "So, the expected number of defective bulbs in a batch of 500 would be:\n",
    "\n",
    "E(X) = 500 * 0.05\n",
    "\n",
    "I can calculate the exact probabilities and expected number of defective bulbs once you provide the desired calculation or specific values for each part of the question."
   ]
  },
  {
   "cell_type": "markdown",
   "id": "f6ac93b1",
   "metadata": {},
   "source": [
    "## Q-12. A pharmaceutical company develops a new drug and wants to compare its\n",
    "effectiveness against a standard drug for treating a particular condition. They conduct a\n",
    "study with two groups: Group A receives the new drug, and Group B receives the standard\n",
    "drug. The company measures the improvement in a specific symptom for both groups after\n",
    "a 4-week treatment period.\n",
    "a. The company collects data from 30 patients in each group and calculates the\n",
    "mean improvement score and the standard deviation of improvement for each\n",
    "group. The mean improvement score for Group A is 2.5 with a standard\n",
    "deviation of 0.8, while the mean improvement score for Group B is 2.2 with a\n",
    "standard deviation of 0.6. Conduct a t-test to determine if there is a significant\n",
    "difference in the mean improvement scores between the two groups. Use a\n",
    "significance level of 0.05.\n",
    "b. Based on the t-test results, state whether the null hypothesis should be\n",
    "rejected or not. Provide a conclusion in the context of the study."
   ]
  },
  {
   "cell_type": "markdown",
   "id": "e88eff93",
   "metadata": {},
   "source": [
    "Ans-a. To conduct a t-test to determine if there is a significant difference in the mean improvement scores between the two groups, we can use the independent samples t-test. Here are the steps to perform the t-test:\n",
    "\n",
    "Step 1: State the hypotheses:\n",
    "Null hypothesis (H0): There is no significant difference in the mean improvement scores between Group A and Group B.\n",
    "Alternative hypothesis (Ha): There is a significant difference in the mean improvement scores between Group A and Group B.\n",
    "\n",
    "Step 2: Set the significance level (alpha):\n",
    "In this case, the significance level is given as 0.05 (or 5%).\n",
    "\n",
    "Step 3: Calculate the t-test statistic:\n",
    "The formula for the independent samples t-test is:\n",
    "t = (mean1 - mean2) / sqrt((s1^2 / n1) + (s2^2 / n2))\n",
    "where mean1 and mean2 are the means of Group A and Group B, s1 and s2 are the standard deviations of Group A and Group B, and n1 and n2 are the sample sizes of Group A and Group B.\n",
    "\n",
    "Calculating the t-test statistic:\n",
    "t = (2.5 - 2.2) / sqrt((0.8^2 / 30) + (0.6^2 / 30))\n",
    "\n",
    "Step 4: Determine the degrees of freedom:\n",
    "Degrees of freedom = (n1 + n2) - 2\n",
    "\n",
    "Step 5: Determine the critical value:\n",
    "Using the t-distribution table or a t-distribution calculator with the given significance level and degrees of freedom, find the critical value for a two-tailed test.\n",
    "\n",
    "Step 6: Compare the t-test statistic with the critical value:\n",
    "If the absolute value of the t-test statistic is greater than the critical value, we reject the null hypothesis. Otherwise, we fail to reject the null hypothesis.\n",
    "\n",
    "b. Based on the t-test results, we compare the t-test statistic with the critical value from the t-distribution table. If the t-test statistic exceeds the critical value, we reject the null hypothesis. Otherwise, we fail to reject the null hypothesis.\n",
    "\n",
    "In the context of the study, if we reject the null hypothesis, it would suggest that there is a significant difference in the mean improvement scores between Group A and Group B. On the other hand, if we fail to reject the null hypothesis, it would indicate that there is not enough evidence to conclude a significant difference between the mean improvement scores of the two groups."
   ]
  },
  {
   "cell_type": "code",
   "execution_count": null,
   "id": "529f0bb5",
   "metadata": {},
   "outputs": [],
   "source": []
  }
 ],
 "metadata": {
  "kernelspec": {
   "display_name": "Python 3 (ipykernel)",
   "language": "python",
   "name": "python3"
  },
  "language_info": {
   "codemirror_mode": {
    "name": "ipython",
    "version": 3
   },
   "file_extension": ".py",
   "mimetype": "text/x-python",
   "name": "python",
   "nbconvert_exporter": "python",
   "pygments_lexer": "ipython3",
   "version": "3.10.7"
  }
 },
 "nbformat": 4,
 "nbformat_minor": 5
}
